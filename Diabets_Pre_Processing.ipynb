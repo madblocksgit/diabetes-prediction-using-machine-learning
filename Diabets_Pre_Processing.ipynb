{
  "nbformat": 4,
  "nbformat_minor": 0,
  "metadata": {
    "colab": {
      "name": "Diabets Pre-Processing.ipynb",
      "provenance": [],
      "collapsed_sections": []
    },
    "kernelspec": {
      "name": "python3",
      "display_name": "Python 3"
    },
    "language_info": {
      "name": "python"
    }
  },
  "cells": [
    {
      "cell_type": "markdown",
      "metadata": {
        "id": "lb7isKFNnrNP"
      },
      "source": [
        "# Data Pre-Processing Template"
      ]
    },
    {
      "cell_type": "code",
      "metadata": {
        "colab": {
          "base_uri": "https://localhost:8080/"
        },
        "id": "_g249nJgmoGB",
        "outputId": "86f9e706-fd86-48c6-d463-06f62c5b4f37"
      },
      "source": [
        "import pandas as pd\n",
        "\n",
        "dataset=pd.read_csv('diabetes_dataset__2019.csv')\n",
        "print(dataset)"
      ],
      "execution_count": null,
      "outputs": [
        {
          "output_type": "stream",
          "text": [
            "              Age  Gender Family_Diabetes  ... Pdiabetes UriationFreq  Diabetic\n",
            "0           50-59    Male              no  ...         0     not much        no\n",
            "1           50-59    Male              no  ...         0     not much        no\n",
            "2           40-49    Male              no  ...         0     not much        no\n",
            "3           50-59    Male              no  ...         0     not much        no\n",
            "4           40-49    Male              no  ...         0     not much        no\n",
            "..            ...     ...             ...  ...       ...          ...       ...\n",
            "947  less than 40    Male             yes  ...         0     not much       yes\n",
            "948   60 or older    Male             yes  ...         0  quite often       yes\n",
            "949   60 or older    Male              no  ...         0     not much        no\n",
            "950   60 or older    Male              no  ...         0     not much        no\n",
            "951   60 or older  Female             yes  ...         0  quite often       yes\n",
            "\n",
            "[952 rows x 18 columns]\n"
          ],
          "name": "stdout"
        }
      ]
    },
    {
      "cell_type": "code",
      "metadata": {
        "colab": {
          "base_uri": "https://localhost:8080/"
        },
        "id": "9_0aoUDInPaS",
        "outputId": "130c102f-04e9-410c-9167-360246107313"
      },
      "source": [
        "print(dataset.head())"
      ],
      "execution_count": null,
      "outputs": [
        {
          "output_type": "stream",
          "text": [
            "     Age Gender Family_Diabetes  ... Pdiabetes UriationFreq  Diabetic\n",
            "0  50-59   Male              no  ...         0     not much        no\n",
            "1  50-59   Male              no  ...         0     not much        no\n",
            "2  40-49   Male              no  ...         0     not much        no\n",
            "3  50-59   Male              no  ...         0     not much        no\n",
            "4  40-49   Male              no  ...         0     not much        no\n",
            "\n",
            "[5 rows x 18 columns]\n"
          ],
          "name": "stdout"
        }
      ]
    },
    {
      "cell_type": "markdown",
      "metadata": {
        "id": "SXwRVu1DnvDw"
      },
      "source": [
        "# Let's focus on Age\n",
        "\n",
        "1. less than 40 - 0\n",
        "2. 40-49 - 1\n",
        "3. 50-59 - 2\n",
        "4. 60 or older - 3\n"
      ]
    },
    {
      "cell_type": "code",
      "metadata": {
        "id": "rDf8oLe5npqv"
      },
      "source": [
        "dataset.loc[dataset['Age'] == 'less than 40', 'Age'] = 0\n",
        "dataset.loc[dataset['Age'] == '40-49','Age'] = 1\n",
        "dataset.loc[dataset['Age'] == '50-59','Age']=2\n",
        "dataset.loc[dataset['Age'] == '60 or older','Age']=3"
      ],
      "execution_count": null,
      "outputs": []
    },
    {
      "cell_type": "code",
      "metadata": {
        "colab": {
          "base_uri": "https://localhost:8080/"
        },
        "id": "ZYyeiM15rc8I",
        "outputId": "6ef2ec20-698a-46b8-ab3d-21d623dcc300"
      },
      "source": [
        "dataset['Age'].head(10)"
      ],
      "execution_count": null,
      "outputs": [
        {
          "output_type": "execute_result",
          "data": {
            "text/plain": [
              "0    2\n",
              "1    2\n",
              "2    1\n",
              "3    2\n",
              "4    1\n",
              "5    1\n",
              "6    0\n",
              "7    0\n",
              "8    1\n",
              "9    0\n",
              "Name: Age, dtype: object"
            ]
          },
          "metadata": {
            "tags": []
          },
          "execution_count": 25
        }
      ]
    },
    {
      "cell_type": "code",
      "metadata": {
        "id": "LwfA6zsXsbk_"
      },
      "source": [
        "dataset['Age'] = dataset['Age'].apply(pd.to_numeric)"
      ],
      "execution_count": null,
      "outputs": []
    },
    {
      "cell_type": "code",
      "metadata": {
        "colab": {
          "base_uri": "https://localhost:8080/"
        },
        "id": "notZy9Eush62",
        "outputId": "815df003-8153-443f-c4b8-2aae102ca3a0"
      },
      "source": [
        "print(dataset.dtypes)"
      ],
      "execution_count": null,
      "outputs": [
        {
          "output_type": "stream",
          "text": [
            "Age                   int64\n",
            "Gender               object\n",
            "Family_Diabetes      object\n",
            "highBP               object\n",
            "PhysicallyActive     object\n",
            "BMI                 float64\n",
            "Smoking              object\n",
            "Alcohol              object\n",
            "Sleep                 int64\n",
            "SoundSleep            int64\n",
            "RegularMedicine      object\n",
            "JunkFood             object\n",
            "Stress               object\n",
            "BPLevel              object\n",
            "Pregancies          float64\n",
            "Pdiabetes            object\n",
            "UriationFreq         object\n",
            "Diabetic             object\n",
            "dtype: object\n"
          ],
          "name": "stdout"
        }
      ]
    },
    {
      "cell_type": "markdown",
      "metadata": {
        "id": "e2gpmwn3tq3_"
      },
      "source": [
        "# Let's focus on Gender\n",
        "\n",
        "1. Male - 1\n",
        "2. Female - 0"
      ]
    },
    {
      "cell_type": "code",
      "metadata": {
        "id": "yfME19t2tzEw"
      },
      "source": [
        "dataset.loc[dataset['Gender'] == 'Male', 'Gender'] = 1\n",
        "dataset.loc[dataset['Gender'] == 'Female','Gender'] = 0"
      ],
      "execution_count": null,
      "outputs": []
    },
    {
      "cell_type": "code",
      "metadata": {
        "colab": {
          "base_uri": "https://localhost:8080/"
        },
        "id": "qKH8Y-7PuBRk",
        "outputId": "4c6f9ce3-4ddd-4b56-ee7e-e9f162326609"
      },
      "source": [
        "print(dataset)"
      ],
      "execution_count": null,
      "outputs": [
        {
          "output_type": "stream",
          "text": [
            "     Age Gender Family_Diabetes  ... Pdiabetes UriationFreq  Diabetic\n",
            "0      2      1              no  ...         0     not much        no\n",
            "1      2      1              no  ...         0     not much        no\n",
            "2      1      1              no  ...         0     not much        no\n",
            "3      2      1              no  ...         0     not much        no\n",
            "4      1      1              no  ...         0     not much        no\n",
            "..   ...    ...             ...  ...       ...          ...       ...\n",
            "947    0      1             yes  ...         0     not much       yes\n",
            "948    3      1             yes  ...         0  quite often       yes\n",
            "949    3      1              no  ...         0     not much        no\n",
            "950    3      1              no  ...         0     not much        no\n",
            "951    3      0             yes  ...         0  quite often       yes\n",
            "\n",
            "[952 rows x 18 columns]\n"
          ],
          "name": "stdout"
        }
      ]
    },
    {
      "cell_type": "code",
      "metadata": {
        "id": "RNtoKqWyuFj1"
      },
      "source": [
        "dataset['Gender'] = dataset['Gender'].apply(pd.to_numeric)"
      ],
      "execution_count": null,
      "outputs": []
    },
    {
      "cell_type": "code",
      "metadata": {
        "colab": {
          "base_uri": "https://localhost:8080/"
        },
        "id": "u_HixhxSuIlF",
        "outputId": "55ee81a1-24f1-4a8f-920b-ae993e246871"
      },
      "source": [
        "print(dataset.dtypes)"
      ],
      "execution_count": null,
      "outputs": [
        {
          "output_type": "stream",
          "text": [
            "Age                   int64\n",
            "Gender                int64\n",
            "Family_Diabetes      object\n",
            "highBP               object\n",
            "PhysicallyActive     object\n",
            "BMI                 float64\n",
            "Smoking              object\n",
            "Alcohol              object\n",
            "Sleep                 int64\n",
            "SoundSleep            int64\n",
            "RegularMedicine      object\n",
            "JunkFood             object\n",
            "Stress               object\n",
            "BPLevel              object\n",
            "Pregancies          float64\n",
            "Pdiabetes            object\n",
            "UriationFreq         object\n",
            "Diabetic             object\n",
            "dtype: object\n"
          ],
          "name": "stdout"
        }
      ]
    },
    {
      "cell_type": "markdown",
      "metadata": {
        "id": "BtGyj7KbuP7e"
      },
      "source": [
        "# Let's focus on Family_Diabetes\n",
        "\n",
        "1. no - 0\n",
        "2. yes - 1"
      ]
    },
    {
      "cell_type": "code",
      "metadata": {
        "id": "thaNPmaeuWEk"
      },
      "source": [
        "dataset.loc[dataset['Family_Diabetes'] == 'yes', 'Family_Diabetes'] = 1\n",
        "dataset.loc[dataset['Family_Diabetes'] == 'no','Family_Diabetes'] = 0"
      ],
      "execution_count": null,
      "outputs": []
    },
    {
      "cell_type": "code",
      "metadata": {
        "colab": {
          "base_uri": "https://localhost:8080/"
        },
        "id": "sAq2PzbsudqD",
        "outputId": "df7440de-9d88-4fe1-fbc5-83b9d9f30192"
      },
      "source": [
        "print(dataset)"
      ],
      "execution_count": null,
      "outputs": [
        {
          "output_type": "stream",
          "text": [
            "     Age  Gender Family_Diabetes  ... Pdiabetes UriationFreq  Diabetic\n",
            "0      2       1               0  ...         0     not much        no\n",
            "1      2       1               0  ...         0     not much        no\n",
            "2      1       1               0  ...         0     not much        no\n",
            "3      2       1               0  ...         0     not much        no\n",
            "4      1       1               0  ...         0     not much        no\n",
            "..   ...     ...             ...  ...       ...          ...       ...\n",
            "947    0       1               1  ...         0     not much       yes\n",
            "948    3       1               1  ...         0  quite often       yes\n",
            "949    3       1               0  ...         0     not much        no\n",
            "950    3       1               0  ...         0     not much        no\n",
            "951    3       0               1  ...         0  quite often       yes\n",
            "\n",
            "[952 rows x 18 columns]\n"
          ],
          "name": "stdout"
        }
      ]
    },
    {
      "cell_type": "code",
      "metadata": {
        "id": "hrVs6qpcuimH"
      },
      "source": [
        "dataset['Family_Diabetes'] = dataset['Family_Diabetes'].apply(pd.to_numeric)"
      ],
      "execution_count": null,
      "outputs": []
    },
    {
      "cell_type": "code",
      "metadata": {
        "colab": {
          "base_uri": "https://localhost:8080/"
        },
        "id": "Nohnl9ZAuoEt",
        "outputId": "0cbedf0e-192d-4df2-f6bd-9a47814994ec"
      },
      "source": [
        "print(dataset.dtypes)"
      ],
      "execution_count": null,
      "outputs": [
        {
          "output_type": "stream",
          "text": [
            "Age                   int64\n",
            "Gender                int64\n",
            "Family_Diabetes       int64\n",
            "highBP               object\n",
            "PhysicallyActive     object\n",
            "BMI                 float64\n",
            "Smoking              object\n",
            "Alcohol              object\n",
            "Sleep                 int64\n",
            "SoundSleep            int64\n",
            "RegularMedicine      object\n",
            "JunkFood             object\n",
            "Stress               object\n",
            "BPLevel              object\n",
            "Pregancies          float64\n",
            "Pdiabetes            object\n",
            "UriationFreq         object\n",
            "Diabetic             object\n",
            "dtype: object\n"
          ],
          "name": "stdout"
        }
      ]
    },
    {
      "cell_type": "markdown",
      "metadata": {
        "id": "SrE2Gkwsuvo2"
      },
      "source": [
        "# Let's focus on highBP\n",
        "\n",
        "1. yes - 1\n",
        "2. no - 0"
      ]
    },
    {
      "cell_type": "code",
      "metadata": {
        "id": "vg7cuXixu20e"
      },
      "source": [
        "dataset.loc[dataset['highBP'] == 'yes', 'highBP'] = 1\n",
        "dataset.loc[dataset['highBP'] == 'no','highBP'] = 0"
      ],
      "execution_count": null,
      "outputs": []
    },
    {
      "cell_type": "code",
      "metadata": {
        "colab": {
          "base_uri": "https://localhost:8080/"
        },
        "id": "qpOc5_Geu8wo",
        "outputId": "c8adaa17-343c-4171-f854-53168e81ec82"
      },
      "source": [
        "print(dataset.iloc[:,[3]])"
      ],
      "execution_count": null,
      "outputs": [
        {
          "output_type": "stream",
          "text": [
            "    highBP\n",
            "0        1\n",
            "1        1\n",
            "2        0\n",
            "3        0\n",
            "4        0\n",
            "..     ...\n",
            "947      0\n",
            "948      1\n",
            "949      1\n",
            "950      1\n",
            "951      1\n",
            "\n",
            "[952 rows x 1 columns]\n"
          ],
          "name": "stdout"
        }
      ]
    },
    {
      "cell_type": "code",
      "metadata": {
        "id": "WYg_Sw9kvQWE"
      },
      "source": [
        "dataset['highBP'] = dataset['highBP'].apply(pd.to_numeric)"
      ],
      "execution_count": null,
      "outputs": []
    },
    {
      "cell_type": "code",
      "metadata": {
        "colab": {
          "base_uri": "https://localhost:8080/"
        },
        "id": "bCBl3ubBvXp2",
        "outputId": "e3591e0e-7952-43ff-e74f-d9a3ede418ae"
      },
      "source": [
        "print(dataset.dtypes)"
      ],
      "execution_count": null,
      "outputs": [
        {
          "output_type": "stream",
          "text": [
            "Age                   int64\n",
            "Gender                int64\n",
            "Family_Diabetes       int64\n",
            "highBP                int64\n",
            "PhysicallyActive     object\n",
            "BMI                 float64\n",
            "Smoking              object\n",
            "Alcohol              object\n",
            "Sleep                 int64\n",
            "SoundSleep            int64\n",
            "RegularMedicine      object\n",
            "JunkFood             object\n",
            "Stress               object\n",
            "BPLevel              object\n",
            "Pregancies          float64\n",
            "Pdiabetes            object\n",
            "UriationFreq         object\n",
            "Diabetic             object\n",
            "dtype: object\n"
          ],
          "name": "stdout"
        }
      ]
    },
    {
      "cell_type": "markdown",
      "metadata": {
        "id": "_iAQWLrBvxpv"
      },
      "source": [
        "# Let's focus on PhysicallyActive\n",
        "\n",
        "1. none - 0\n",
        "2. less than half an hr - 1\n",
        "3. more than half an hr - 2\n",
        "4. one hr or more - 3"
      ]
    },
    {
      "cell_type": "code",
      "metadata": {
        "id": "zdue7Y_svzSm"
      },
      "source": [
        "dataset.loc[dataset['PhysicallyActive'] == 'none', 'PhysicallyActive'] = 0\n",
        "dataset.loc[dataset['PhysicallyActive'] == 'less than half an hr','PhysicallyActive'] = 1\n",
        "dataset.loc[dataset['PhysicallyActive'] == 'more than half an hr','PhysicallyActive']=2\n",
        "dataset.loc[dataset['PhysicallyActive'] == 'one hr or more','PhysicallyActive']=3"
      ],
      "execution_count": null,
      "outputs": []
    },
    {
      "cell_type": "code",
      "metadata": {
        "colab": {
          "base_uri": "https://localhost:8080/"
        },
        "id": "Fu43HxX-wiTi",
        "outputId": "8b173edd-cd8d-48d2-ea1c-1308691a9359"
      },
      "source": [
        "print(dataset.iloc[:,[4]])"
      ],
      "execution_count": null,
      "outputs": [
        {
          "output_type": "stream",
          "text": [
            "    PhysicallyActive\n",
            "0                  3\n",
            "1                  1\n",
            "2                  3\n",
            "3                  3\n",
            "4                  1\n",
            "..               ...\n",
            "947                2\n",
            "948                2\n",
            "949                0\n",
            "950                1\n",
            "951                3\n",
            "\n",
            "[952 rows x 1 columns]\n"
          ],
          "name": "stdout"
        }
      ]
    },
    {
      "cell_type": "code",
      "metadata": {
        "id": "OhJljo0mwpig"
      },
      "source": [
        "dataset['PhysicallyActive'] = dataset['PhysicallyActive'].apply(pd.to_numeric)"
      ],
      "execution_count": null,
      "outputs": []
    },
    {
      "cell_type": "code",
      "metadata": {
        "colab": {
          "base_uri": "https://localhost:8080/"
        },
        "id": "h30gBWQowzm9",
        "outputId": "665a8628-d1f8-469a-a53c-366563a5d56d"
      },
      "source": [
        "print(dataset.dtypes)"
      ],
      "execution_count": null,
      "outputs": [
        {
          "output_type": "stream",
          "text": [
            "Age                   int64\n",
            "Gender                int64\n",
            "Family_Diabetes       int64\n",
            "highBP                int64\n",
            "PhysicallyActive      int64\n",
            "BMI                 float64\n",
            "Smoking              object\n",
            "Alcohol              object\n",
            "Sleep                 int64\n",
            "SoundSleep            int64\n",
            "RegularMedicine      object\n",
            "JunkFood             object\n",
            "Stress               object\n",
            "BPLevel              object\n",
            "Pregancies          float64\n",
            "Pdiabetes            object\n",
            "UriationFreq         object\n",
            "Diabetic             object\n",
            "dtype: object\n"
          ],
          "name": "stdout"
        }
      ]
    },
    {
      "cell_type": "markdown",
      "metadata": {
        "id": "iHlEEAFxw-N_"
      },
      "source": [
        "# Let's focus on smoking\n",
        "\n",
        "1. yes - 1\n",
        "2. no - 0"
      ]
    },
    {
      "cell_type": "code",
      "metadata": {
        "id": "jBkhTI6wxB99"
      },
      "source": [
        "dataset.loc[dataset['Smoking'] == 'yes', 'Smoking'] = 1\n",
        "dataset.loc[dataset['Smoking'] == 'no','Smoking'] = 0"
      ],
      "execution_count": null,
      "outputs": []
    },
    {
      "cell_type": "code",
      "metadata": {
        "colab": {
          "base_uri": "https://localhost:8080/"
        },
        "id": "7VEtt5zKxKi-",
        "outputId": "b13275c1-67eb-46b9-fa88-6b6f82c91275"
      },
      "source": [
        "print(dataset.iloc[:,[6]])"
      ],
      "execution_count": null,
      "outputs": [
        {
          "output_type": "stream",
          "text": [
            "    Smoking\n",
            "0         0\n",
            "1         0\n",
            "2         0\n",
            "3         0\n",
            "4         0\n",
            "..      ...\n",
            "947       0\n",
            "948       0\n",
            "949       0\n",
            "950       0\n",
            "951       0\n",
            "\n",
            "[952 rows x 1 columns]\n"
          ],
          "name": "stdout"
        }
      ]
    },
    {
      "cell_type": "code",
      "metadata": {
        "id": "4hBCHbe4xbi6"
      },
      "source": [
        "dataset['Smoking'] = dataset['Smoking'].apply(pd.to_numeric)"
      ],
      "execution_count": null,
      "outputs": []
    },
    {
      "cell_type": "code",
      "metadata": {
        "colab": {
          "base_uri": "https://localhost:8080/"
        },
        "id": "xhD_mUvixeL6",
        "outputId": "9eac4a1d-3ef7-4524-bae0-de4c0f84b785"
      },
      "source": [
        "print(dataset.dtypes)"
      ],
      "execution_count": null,
      "outputs": [
        {
          "output_type": "stream",
          "text": [
            "Age                   int64\n",
            "Gender                int64\n",
            "Family_Diabetes       int64\n",
            "highBP                int64\n",
            "PhysicallyActive      int64\n",
            "BMI                 float64\n",
            "Smoking               int64\n",
            "Alcohol              object\n",
            "Sleep                 int64\n",
            "SoundSleep            int64\n",
            "RegularMedicine      object\n",
            "JunkFood             object\n",
            "Stress               object\n",
            "BPLevel              object\n",
            "Pregancies          float64\n",
            "Pdiabetes            object\n",
            "UriationFreq         object\n",
            "Diabetic             object\n",
            "dtype: object\n"
          ],
          "name": "stdout"
        }
      ]
    },
    {
      "cell_type": "markdown",
      "metadata": {
        "id": "AkCcpTDyxnSF"
      },
      "source": [
        "# Lets focus on Alcohol\n",
        "\n",
        "1. yes - 1\n",
        "2. no - 0"
      ]
    },
    {
      "cell_type": "code",
      "metadata": {
        "id": "k0yQR3fYxr4N"
      },
      "source": [
        "dataset.loc[dataset['Alcohol'] == 'yes', 'Alcohol'] = 1\n",
        "dataset.loc[dataset['Alcohol'] == 'no','Alcohol'] = 0"
      ],
      "execution_count": null,
      "outputs": []
    },
    {
      "cell_type": "code",
      "metadata": {
        "colab": {
          "base_uri": "https://localhost:8080/"
        },
        "id": "2-qGy9T3xyu3",
        "outputId": "6b2f39c9-8b5a-495d-d16b-f4fe134a0f3c"
      },
      "source": [
        "print(dataset.iloc[:,[7]])"
      ],
      "execution_count": null,
      "outputs": [
        {
          "output_type": "stream",
          "text": [
            "    Alcohol\n",
            "0         0\n",
            "1         0\n",
            "2         0\n",
            "3         0\n",
            "4         0\n",
            "..      ...\n",
            "947       0\n",
            "948       0\n",
            "949       0\n",
            "950       1\n",
            "951       0\n",
            "\n",
            "[952 rows x 1 columns]\n"
          ],
          "name": "stdout"
        }
      ]
    },
    {
      "cell_type": "code",
      "metadata": {
        "id": "ax9Yx-bnx0lx"
      },
      "source": [
        "dataset['Alcohol'] = dataset['Alcohol'].apply(pd.to_numeric)"
      ],
      "execution_count": null,
      "outputs": []
    },
    {
      "cell_type": "code",
      "metadata": {
        "colab": {
          "base_uri": "https://localhost:8080/"
        },
        "id": "i7HbC8eRx5Ui",
        "outputId": "377ff7e2-421a-4f62-9124-261724b07640"
      },
      "source": [
        "print(dataset.dtypes)"
      ],
      "execution_count": null,
      "outputs": [
        {
          "output_type": "stream",
          "text": [
            "Age                   int64\n",
            "Gender                int64\n",
            "Family_Diabetes       int64\n",
            "highBP                int64\n",
            "PhysicallyActive      int64\n",
            "BMI                 float64\n",
            "Smoking               int64\n",
            "Alcohol               int64\n",
            "Sleep                 int64\n",
            "SoundSleep            int64\n",
            "RegularMedicine      object\n",
            "JunkFood             object\n",
            "Stress               object\n",
            "BPLevel              object\n",
            "Pregancies          float64\n",
            "Pdiabetes            object\n",
            "UriationFreq         object\n",
            "Diabetic             object\n",
            "dtype: object\n"
          ],
          "name": "stdout"
        }
      ]
    },
    {
      "cell_type": "markdown",
      "metadata": {
        "id": "oPsXvImsyiSa"
      },
      "source": [
        "# Lets focus on RegularMedicine\n",
        "\n",
        "1. yes - 1\n",
        "2. no - 0"
      ]
    },
    {
      "cell_type": "code",
      "metadata": {
        "id": "PkrLXjVgymcu"
      },
      "source": [
        "dataset.loc[dataset['RegularMedicine'] == 'yes', 'RegularMedicine'] = 1\n",
        "dataset.loc[dataset['RegularMedicine'] == 'no','RegularMedicine'] = 0"
      ],
      "execution_count": null,
      "outputs": []
    },
    {
      "cell_type": "code",
      "metadata": {
        "colab": {
          "base_uri": "https://localhost:8080/"
        },
        "id": "z6Q75r_Lyugq",
        "outputId": "4cf5a73a-3624-448e-f37e-cc231a0ccbde"
      },
      "source": [
        "print(dataset.iloc[:,[10]])"
      ],
      "execution_count": null,
      "outputs": [
        {
          "output_type": "stream",
          "text": [
            "    RegularMedicine\n",
            "0                 0\n",
            "1                 1\n",
            "2                 0\n",
            "3                 0\n",
            "4                 0\n",
            "..              ...\n",
            "947               0\n",
            "948               1\n",
            "949               1\n",
            "950               1\n",
            "951               1\n",
            "\n",
            "[952 rows x 1 columns]\n"
          ],
          "name": "stdout"
        }
      ]
    },
    {
      "cell_type": "code",
      "metadata": {
        "id": "c4SHRuwryz0C"
      },
      "source": [
        "dataset.loc[dataset['RegularMedicine'] == 'o','RegularMedicine'] = 0\n",
        "dataset['RegularMedicine'] = dataset['RegularMedicine'].apply(pd.to_numeric)"
      ],
      "execution_count": null,
      "outputs": []
    },
    {
      "cell_type": "code",
      "metadata": {
        "colab": {
          "base_uri": "https://localhost:8080/"
        },
        "id": "WqEGUkU7zEVf",
        "outputId": "9fd062b4-145b-4b51-dd10-e6121d49829c"
      },
      "source": [
        "print(dataset.dtypes)"
      ],
      "execution_count": null,
      "outputs": [
        {
          "output_type": "stream",
          "text": [
            "Age                   int64\n",
            "Gender                int64\n",
            "Family_Diabetes       int64\n",
            "highBP                int64\n",
            "PhysicallyActive      int64\n",
            "BMI                 float64\n",
            "Smoking               int64\n",
            "Alcohol               int64\n",
            "Sleep                 int64\n",
            "SoundSleep            int64\n",
            "RegularMedicine       int64\n",
            "JunkFood             object\n",
            "Stress               object\n",
            "BPLevel              object\n",
            "Pregancies          float64\n",
            "Pdiabetes            object\n",
            "UriationFreq         object\n",
            "Diabetic             object\n",
            "dtype: object\n"
          ],
          "name": "stdout"
        }
      ]
    },
    {
      "cell_type": "markdown",
      "metadata": {
        "id": "2mQtmTrZzf3c"
      },
      "source": [
        "# Let's focus on JunkFood             \n",
        "\n",
        "1. occasionally - 0\n",
        "2. often - 1\n",
        "3. very often - 2\n",
        "4. always - 3"
      ]
    },
    {
      "cell_type": "code",
      "metadata": {
        "id": "mdFLpS42zp2s"
      },
      "source": [
        "dataset.loc[dataset['JunkFood'] == 'occasionally', 'JunkFood'] = 0\n",
        "dataset.loc[dataset['JunkFood'] == 'often','JunkFood'] = 1\n",
        "dataset.loc[dataset['JunkFood'] == 'very often','JunkFood'] = 2\n",
        "dataset.loc[dataset['JunkFood'] == 'always','JunkFood'] = 3"
      ],
      "execution_count": null,
      "outputs": []
    },
    {
      "cell_type": "code",
      "metadata": {
        "colab": {
          "base_uri": "https://localhost:8080/"
        },
        "id": "0KRYBlI6z91J",
        "outputId": "013cc3de-835d-44ad-e041-0df26beca55e"
      },
      "source": [
        "print(dataset.iloc[:,[11]])"
      ],
      "execution_count": null,
      "outputs": [
        {
          "output_type": "stream",
          "text": [
            "    JunkFood\n",
            "0          0\n",
            "1          2\n",
            "2          0\n",
            "3          0\n",
            "4          0\n",
            "..       ...\n",
            "947        1\n",
            "948        0\n",
            "949        0\n",
            "950        0\n",
            "951        0\n",
            "\n",
            "[952 rows x 1 columns]\n"
          ],
          "name": "stdout"
        }
      ]
    },
    {
      "cell_type": "code",
      "metadata": {
        "id": "6F14Wq970JuB"
      },
      "source": [
        "dataset['JunkFood'] = dataset['JunkFood'].apply(pd.to_numeric)"
      ],
      "execution_count": null,
      "outputs": []
    },
    {
      "cell_type": "code",
      "metadata": {
        "colab": {
          "base_uri": "https://localhost:8080/"
        },
        "id": "BuM8SYMT0fgr",
        "outputId": "a313a414-78db-488e-a4e5-96083403a354"
      },
      "source": [
        "print(dataset.dtypes)"
      ],
      "execution_count": null,
      "outputs": [
        {
          "output_type": "stream",
          "text": [
            "Age                   int64\n",
            "Gender                int64\n",
            "Family_Diabetes       int64\n",
            "highBP                int64\n",
            "PhysicallyActive      int64\n",
            "BMI                 float64\n",
            "Smoking               int64\n",
            "Alcohol               int64\n",
            "Sleep                 int64\n",
            "SoundSleep            int64\n",
            "RegularMedicine       int64\n",
            "JunkFood              int64\n",
            "Stress               object\n",
            "BPLevel              object\n",
            "Pregancies          float64\n",
            "Pdiabetes            object\n",
            "UriationFreq         object\n",
            "Diabetic             object\n",
            "dtype: object\n"
          ],
          "name": "stdout"
        }
      ]
    },
    {
      "cell_type": "markdown",
      "metadata": {
        "id": "uIYsnLRp5TKJ"
      },
      "source": [
        "# Lets focus on Stress\n",
        "\n",
        "1. sometimes - 0\n",
        "2. not at all - 1\n",
        "3. always - 2\n",
        "4. very often -3 "
      ]
    },
    {
      "cell_type": "code",
      "metadata": {
        "id": "WqZAn-WQ5p8P"
      },
      "source": [
        "dataset.loc[dataset['Stress'] == 'sometimes', 'Stress'] = 0\n",
        "dataset.loc[dataset['Stress'] == 'not at all','Stress'] = 1\n",
        "dataset.loc[dataset['Stress'] == 'always','Stress'] = 2\n",
        "dataset.loc[dataset['Stress'] == 'very often','Stress'] = 3"
      ],
      "execution_count": null,
      "outputs": []
    },
    {
      "cell_type": "code",
      "metadata": {
        "colab": {
          "base_uri": "https://localhost:8080/"
        },
        "id": "lBR49sPZ575b",
        "outputId": "6a67d244-7071-4cde-8af8-c242ca5e0a43"
      },
      "source": [
        "print(dataset.iloc[:,[12]])"
      ],
      "execution_count": null,
      "outputs": [
        {
          "output_type": "stream",
          "text": [
            "    Stress\n",
            "0        0\n",
            "1        0\n",
            "2        0\n",
            "3        0\n",
            "4        0\n",
            "..     ...\n",
            "947      0\n",
            "948      0\n",
            "949      0\n",
            "950      3\n",
            "951      0\n",
            "\n",
            "[952 rows x 1 columns]\n"
          ],
          "name": "stdout"
        }
      ]
    },
    {
      "cell_type": "code",
      "metadata": {
        "id": "533RMDUG5_cg"
      },
      "source": [
        "dataset['Stress'] = dataset['Stress'].apply(pd.to_numeric)"
      ],
      "execution_count": null,
      "outputs": []
    },
    {
      "cell_type": "code",
      "metadata": {
        "colab": {
          "base_uri": "https://localhost:8080/"
        },
        "id": "G3oh3-pN6CGP",
        "outputId": "dcc3890c-e428-4cc3-9f23-30710db7d112"
      },
      "source": [
        "print(dataset.dtypes)"
      ],
      "execution_count": null,
      "outputs": [
        {
          "output_type": "stream",
          "text": [
            "Age                   int64\n",
            "Gender                int64\n",
            "Family_Diabetes       int64\n",
            "highBP                int64\n",
            "PhysicallyActive      int64\n",
            "BMI                 float64\n",
            "Smoking               int64\n",
            "Alcohol               int64\n",
            "Sleep                 int64\n",
            "SoundSleep            int64\n",
            "RegularMedicine       int64\n",
            "JunkFood              int64\n",
            "Stress                int64\n",
            "BPLevel              object\n",
            "Pregancies          float64\n",
            "Pdiabetes            object\n",
            "UriationFreq         object\n",
            "Diabetic             object\n",
            "dtype: object\n"
          ],
          "name": "stdout"
        }
      ]
    },
    {
      "cell_type": "markdown",
      "metadata": {
        "id": "7qbUvh4X6SV_"
      },
      "source": [
        "# Lets focus on BPLevel\n",
        "\n",
        "1. high - 0\n",
        "2. normal - 1\n",
        "3. low - 2\n",
        "4. Low - 2\n"
      ]
    },
    {
      "cell_type": "code",
      "metadata": {
        "id": "gJ1y4m2Z6ZV-"
      },
      "source": [
        "dataset.loc[dataset['BPLevel'] == 'High', 'BPLevel'] = 0\n",
        "dataset.loc[dataset['BPLevel'] == 'high', 'BPLevel'] = 0\n",
        "dataset.loc[dataset['BPLevel'] == 'normal','BPLevel'] = 1\n",
        "dataset.loc[dataset['BPLevel'] == 'normal ','BPLevel'] = 1\n",
        "dataset.loc[dataset['BPLevel'] == 'low','BPLevel'] = 2\n",
        "dataset.loc[dataset['BPLevel'] == 'Low','BPLevel'] = 2"
      ],
      "execution_count": null,
      "outputs": []
    },
    {
      "cell_type": "code",
      "metadata": {
        "colab": {
          "base_uri": "https://localhost:8080/"
        },
        "id": "s3JWXh_D6pnz",
        "outputId": "d1283ff7-0461-4945-b5c3-0d63a4cd1f45"
      },
      "source": [
        "print(dataset.iloc[:,[13]])"
      ],
      "execution_count": null,
      "outputs": [
        {
          "output_type": "stream",
          "text": [
            "    BPLevel\n",
            "0         0\n",
            "1         1\n",
            "2         1\n",
            "3         1\n",
            "4         1\n",
            "..      ...\n",
            "947       1\n",
            "948       0\n",
            "949       0\n",
            "950       0\n",
            "951       0\n",
            "\n",
            "[952 rows x 1 columns]\n"
          ],
          "name": "stdout"
        }
      ]
    },
    {
      "cell_type": "code",
      "metadata": {
        "id": "K6IVbUoW6tQD"
      },
      "source": [
        "dataset['BPLevel'] = dataset['BPLevel'].apply(pd.to_numeric)"
      ],
      "execution_count": null,
      "outputs": []
    },
    {
      "cell_type": "code",
      "metadata": {
        "colab": {
          "base_uri": "https://localhost:8080/"
        },
        "id": "lCE9LCG37TbW",
        "outputId": "99b2b904-e1e7-4415-b1b2-68baf6e254ce"
      },
      "source": [
        "print(dataset.dtypes)"
      ],
      "execution_count": null,
      "outputs": [
        {
          "output_type": "stream",
          "text": [
            "Age                   int64\n",
            "Gender                int64\n",
            "Family_Diabetes       int64\n",
            "highBP                int64\n",
            "PhysicallyActive      int64\n",
            "BMI                 float64\n",
            "Smoking               int64\n",
            "Alcohol               int64\n",
            "Sleep                 int64\n",
            "SoundSleep            int64\n",
            "RegularMedicine       int64\n",
            "JunkFood              int64\n",
            "Stress                int64\n",
            "BPLevel               int64\n",
            "Pregancies          float64\n",
            "Pdiabetes            object\n",
            "UriationFreq         object\n",
            "Diabetic             object\n",
            "dtype: object\n"
          ],
          "name": "stdout"
        }
      ]
    },
    {
      "cell_type": "markdown",
      "metadata": {
        "id": "jql4iFZD7dgu"
      },
      "source": [
        "# Lets focus on Pdiabetes\n",
        "\n",
        "1. yes - 1\n",
        "2. no - 0"
      ]
    },
    {
      "cell_type": "code",
      "metadata": {
        "id": "bUXLAgsH7kR5"
      },
      "source": [
        "dataset.loc[dataset['Pdiabetes'] == 'yes', 'Pdiabetes'] = 1\n",
        "dataset.loc[dataset['Pdiabetes'] == 'no','Pdiabetes'] = 0"
      ],
      "execution_count": null,
      "outputs": []
    },
    {
      "cell_type": "code",
      "metadata": {
        "colab": {
          "base_uri": "https://localhost:8080/"
        },
        "id": "Ej39xuXP7uW1",
        "outputId": "32051794-410f-4865-e1d7-f3a27c386a79"
      },
      "source": [
        "print(dataset.iloc[:,[15]])"
      ],
      "execution_count": null,
      "outputs": [
        {
          "output_type": "stream",
          "text": [
            "    Pdiabetes\n",
            "0           0\n",
            "1           0\n",
            "2           0\n",
            "3           0\n",
            "4           0\n",
            "..        ...\n",
            "947         0\n",
            "948         0\n",
            "949         0\n",
            "950         0\n",
            "951         0\n",
            "\n",
            "[952 rows x 1 columns]\n"
          ],
          "name": "stdout"
        }
      ]
    },
    {
      "cell_type": "code",
      "metadata": {
        "id": "nLfnFfrr7yeo"
      },
      "source": [
        "dataset['Pdiabetes'] = dataset['Pdiabetes'].apply(pd.to_numeric)"
      ],
      "execution_count": null,
      "outputs": []
    },
    {
      "cell_type": "code",
      "metadata": {
        "colab": {
          "base_uri": "https://localhost:8080/"
        },
        "id": "Hzy3MHWU71h9",
        "outputId": "85d09a56-93f3-47f7-9c8c-5a3a6b5a2f94"
      },
      "source": [
        "print(dataset.dtypes)"
      ],
      "execution_count": null,
      "outputs": [
        {
          "output_type": "stream",
          "text": [
            "Age                   int64\n",
            "Gender                int64\n",
            "Family_Diabetes       int64\n",
            "highBP                int64\n",
            "PhysicallyActive      int64\n",
            "BMI                 float64\n",
            "Smoking               int64\n",
            "Alcohol               int64\n",
            "Sleep                 int64\n",
            "SoundSleep            int64\n",
            "RegularMedicine       int64\n",
            "JunkFood              int64\n",
            "Stress                int64\n",
            "BPLevel               int64\n",
            "Pregancies          float64\n",
            "Pdiabetes           float64\n",
            "UriationFreq         object\n",
            "Diabetic             object\n",
            "dtype: object\n"
          ],
          "name": "stdout"
        }
      ]
    },
    {
      "cell_type": "markdown",
      "metadata": {
        "id": "6HYpq98U8D5s"
      },
      "source": [
        "# Lets focus on UriationFreq\n",
        "\n",
        "1. not much - 0\n",
        "2. quite often - 1\n",
        "\n"
      ]
    },
    {
      "cell_type": "code",
      "metadata": {
        "id": "wZBGiwMZ8_Eu"
      },
      "source": [
        "dataset.loc[dataset['UriationFreq'] == 'not much', 'UriationFreq'] = 0\n",
        "dataset.loc[dataset['UriationFreq'] == 'quite often','UriationFreq'] = 1"
      ],
      "execution_count": null,
      "outputs": []
    },
    {
      "cell_type": "code",
      "metadata": {
        "colab": {
          "base_uri": "https://localhost:8080/"
        },
        "id": "3Cb4UBER9MFx",
        "outputId": "afb480bf-1796-4149-8e74-86c459f62f2f"
      },
      "source": [
        "print(dataset.iloc[:,[16]])"
      ],
      "execution_count": null,
      "outputs": [
        {
          "output_type": "stream",
          "text": [
            "    UriationFreq\n",
            "0              0\n",
            "1              0\n",
            "2              0\n",
            "3              0\n",
            "4              0\n",
            "..           ...\n",
            "947            0\n",
            "948            1\n",
            "949            0\n",
            "950            0\n",
            "951            1\n",
            "\n",
            "[952 rows x 1 columns]\n"
          ],
          "name": "stdout"
        }
      ]
    },
    {
      "cell_type": "code",
      "metadata": {
        "id": "gIb7X7ph9WTr"
      },
      "source": [
        "dataset['UriationFreq'] = dataset['UriationFreq'].apply(pd.to_numeric)"
      ],
      "execution_count": null,
      "outputs": []
    },
    {
      "cell_type": "code",
      "metadata": {
        "colab": {
          "base_uri": "https://localhost:8080/"
        },
        "id": "__TVERij9aot",
        "outputId": "5d24d089-9d78-4f16-c261-533f14e69b06"
      },
      "source": [
        "print(dataset.dtypes)"
      ],
      "execution_count": null,
      "outputs": [
        {
          "output_type": "stream",
          "text": [
            "Age                   int64\n",
            "Gender                int64\n",
            "Family_Diabetes       int64\n",
            "highBP                int64\n",
            "PhysicallyActive      int64\n",
            "BMI                 float64\n",
            "Smoking               int64\n",
            "Alcohol               int64\n",
            "Sleep                 int64\n",
            "SoundSleep            int64\n",
            "RegularMedicine       int64\n",
            "JunkFood              int64\n",
            "Stress                int64\n",
            "BPLevel               int64\n",
            "Pregancies          float64\n",
            "Pdiabetes           float64\n",
            "UriationFreq          int64\n",
            "Diabetic             object\n",
            "dtype: object\n"
          ],
          "name": "stdout"
        }
      ]
    },
    {
      "cell_type": "markdown",
      "metadata": {
        "id": "rpiO6lCO9gfw"
      },
      "source": [
        "# Lets focus on Diabetic\n",
        "\n",
        "1. yes - 1\n",
        "2. no - 0"
      ]
    },
    {
      "cell_type": "code",
      "metadata": {
        "id": "oO6lpeKt9nY5"
      },
      "source": [
        "dataset.loc[dataset['Diabetic'] == 'yes', 'Diabetic'] = 1\n",
        "dataset.loc[dataset['Diabetic'] == 'no','Diabetic'] = 0\n",
        "dataset.loc[dataset['Diabetic'] == ' no','Diabetic']=0"
      ],
      "execution_count": null,
      "outputs": []
    },
    {
      "cell_type": "code",
      "metadata": {
        "colab": {
          "base_uri": "https://localhost:8080/"
        },
        "id": "1WWQjKy79yho",
        "outputId": "a8950da5-9674-4904-b635-88ccef57d478"
      },
      "source": [
        "print(dataset.iloc[:,[17]])"
      ],
      "execution_count": null,
      "outputs": [
        {
          "output_type": "stream",
          "text": [
            "    Diabetic\n",
            "0          0\n",
            "1          0\n",
            "2          0\n",
            "3          0\n",
            "4          0\n",
            "..       ...\n",
            "947        1\n",
            "948        1\n",
            "949        0\n",
            "950        0\n",
            "951        1\n",
            "\n",
            "[952 rows x 1 columns]\n"
          ],
          "name": "stdout"
        }
      ]
    },
    {
      "cell_type": "code",
      "metadata": {
        "id": "yU0MgYFP90Zn"
      },
      "source": [
        "dataset['Diabetic'] = dataset['Diabetic'].apply(pd.to_numeric)"
      ],
      "execution_count": null,
      "outputs": []
    },
    {
      "cell_type": "code",
      "metadata": {
        "colab": {
          "base_uri": "https://localhost:8080/"
        },
        "id": "ddtfg2fD-FcF",
        "outputId": "bd70635a-8952-499e-d575-ce8919188e69"
      },
      "source": [
        "print(dataset.dtypes)"
      ],
      "execution_count": null,
      "outputs": [
        {
          "output_type": "stream",
          "text": [
            "Age                   int64\n",
            "Gender                int64\n",
            "Family_Diabetes       int64\n",
            "highBP                int64\n",
            "PhysicallyActive      int64\n",
            "BMI                 float64\n",
            "Smoking               int64\n",
            "Alcohol               int64\n",
            "Sleep                 int64\n",
            "SoundSleep            int64\n",
            "RegularMedicine       int64\n",
            "JunkFood              int64\n",
            "Stress                int64\n",
            "BPLevel               int64\n",
            "Pregancies          float64\n",
            "Pdiabetes           float64\n",
            "UriationFreq          int64\n",
            "Diabetic            float64\n",
            "dtype: object\n"
          ],
          "name": "stdout"
        }
      ]
    },
    {
      "cell_type": "code",
      "metadata": {
        "id": "4CjKmeBh-aOh"
      },
      "source": [
        "dataset.to_csv('diabetes_dataset_preprocessed.csv')"
      ],
      "execution_count": null,
      "outputs": []
    },
    {
      "cell_type": "code",
      "metadata": {
        "colab": {
          "base_uri": "https://localhost:8080/"
        },
        "id": "cJu0p3l-PUBn",
        "outputId": "578bda03-49fb-42e7-ef54-096e71dade65"
      },
      "source": [
        "dataset.isnull().sum()"
      ],
      "execution_count": null,
      "outputs": [
        {
          "output_type": "execute_result",
          "data": {
            "text/plain": [
              "Age                  0\n",
              "Gender               0\n",
              "Family_Diabetes      0\n",
              "highBP               0\n",
              "PhysicallyActive     0\n",
              "BMI                  4\n",
              "Smoking              0\n",
              "Alcohol              0\n",
              "Sleep                0\n",
              "SoundSleep           0\n",
              "RegularMedicine      0\n",
              "JunkFood             0\n",
              "Stress               0\n",
              "BPLevel              0\n",
              "Pregancies          42\n",
              "Pdiabetes            1\n",
              "UriationFreq         0\n",
              "Diabetic             1\n",
              "dtype: int64"
            ]
          },
          "metadata": {
            "tags": []
          },
          "execution_count": 115
        }
      ]
    },
    {
      "cell_type": "code",
      "metadata": {
        "id": "5NfcnE4DKZ7l"
      },
      "source": [
        "import pandas as pd\n",
        "\n",
        "dataset=pd.read_csv('diabetes_dataset_preprocessed.csv')"
      ],
      "execution_count": null,
      "outputs": []
    },
    {
      "cell_type": "code",
      "metadata": {
        "colab": {
          "base_uri": "https://localhost:8080/"
        },
        "id": "vE6q_XtcKgdI",
        "outputId": "350e58f9-048b-4c39-e4cf-c55d4f236565"
      },
      "source": [
        "dataset.isnull().sum()"
      ],
      "execution_count": null,
      "outputs": [
        {
          "output_type": "execute_result",
          "data": {
            "text/plain": [
              "Unnamed: 0          0\n",
              "Age                 0\n",
              "Gender              0\n",
              "Family_Diabetes     0\n",
              "highBP              0\n",
              "PhysicallyActive    0\n",
              "BMI                 0\n",
              "Smoking             0\n",
              "Alcohol             0\n",
              "Sleep               0\n",
              "SoundSleep          0\n",
              "RegularMedicine     0\n",
              "JunkFood            0\n",
              "Stress              0\n",
              "BPLevel             0\n",
              "Pregancies          0\n",
              "Pdiabetes           0\n",
              "UriationFreq        0\n",
              "Diabetic            0\n",
              "dtype: int64"
            ]
          },
          "metadata": {
            "tags": []
          },
          "execution_count": 21
        }
      ]
    },
    {
      "cell_type": "code",
      "metadata": {
        "id": "44q5JpwBMrXI"
      },
      "source": [
        "X=dataset.iloc[:,1:-1].values\n",
        "Y=dataset.iloc[:,-1].values"
      ],
      "execution_count": null,
      "outputs": []
    },
    {
      "cell_type": "code",
      "metadata": {
        "colab": {
          "base_uri": "https://localhost:8080/"
        },
        "id": "9fdxHkjxMxUL",
        "outputId": "9aa1febf-9862-43b9-c57e-ede153af7f66"
      },
      "source": [
        "print(Y)"
      ],
      "execution_count": null,
      "outputs": [
        {
          "output_type": "stream",
          "text": [
            "[0 0 0 0 0 1 0 0 0 0 0 0 0 0 0 0 0 0 0 0 0 1 1 0 0 0 0 0 0 1 0 0 1 0 0 1 1\n",
            " 1 1 1 0 0 0 0 0 0 1 1 1 1 0 0 0 0 0 1 0 0 0 1 0 0 0 0 0 1 1 1 1 1 1 1 0 1\n",
            " 1 0 1 1 0 0 0 1 0 0 0 0 0 0 0 0 0 0 0 0 0 0 0 0 0 0 0 0 0 1 0 1 1 1 1 0 1\n",
            " 0 1 1 0 0 0 0 0 0 1 1 0 0 0 0 0 0 0 0 1 0 1 0 0 0 0 0 0 0 0 0 0 0 0 0 0 0\n",
            " 0 0 0 0 0 0 0 0 0 0 0 0 0 0 0 0 0 0 0 0 0 0 0 0 1 1 0 0 0 0 0 1 1 1 1 0 0\n",
            " 0 1 0 0 0 0 0 0 0 0 0 0 0 0 0 0 0 0 0 0 0 0 0 0 0 0 0 0 0 0 0 0 0 0 0 0 0\n",
            " 1 1 1 1 1 1 1 0 1 1 1 1 1 0 0 1 0 1 0 0 1 1 0 0 1 0 0 0 0 0 0 0 1 0 0 0 0\n",
            " 1 1 0 0 0 0 1 0 1 0 0 1 1 1 1 1 1 1 1 0 1 0 0 0 0 1 1 1 1 0 0 1 0 0 1 0 0\n",
            " 1 1 0 0 0 0 0 1 1 1 1 1 1 1 0 1 1 0 1 1 1 1 0 1 0 0 0 0 0 0 0 0 0 0 0 0 0\n",
            " 0 1 0 0 0 0 0 0 1 0 1 1 1 1 0 1 0 1 0 0 0 0 0 0 0 1 1 0 0 0 0 0 0 0 0 1 0\n",
            " 1 0 0 0 0 0 0 0 0 0 0 1 0 0 0 0 0 0 0 0 0 0 0 0 0 0 0 0 0 0 0 1 0 0 0 0 0\n",
            " 0 0 0 1 1 0 0 0 0 0 1 1 1 1 0 0 0 1 0 0 0 0 0 0 0 0 0 0 0 0 0 0 0 0 0 0 0\n",
            " 0 0 0 0 0 0 0 0 0 0 0 0 0 0 0 0 1 1 1 1 1 1 1 0 1 1 1 1 1 1 1 1 0 0 0 1 0\n",
            " 1 0 0 0 0 0 0 0 0 0 0 0 0 0 0 0 1 1 0 0 0 0 0 0 1 0 0 1 1 0 1 1 1 1 1 0 1\n",
            " 0 0 0 0 1 1 1 1 0 0 0 0 0 1 0 0 0 1 0 1 0 0 0 1 1 1 1 1 1 1 0 1 1 0 1 1 0\n",
            " 0 0 1 0 0 0 0 0 0 0 0 0 0 0 0 0 0 0 0 0 0 0 0 0 1 0 1 1 1 1 0 1 0 1 0 0 0\n",
            " 0 0 0 1 1 1 0 0 0 0 0 0 0 0 1 0 1 0 0 0 0 0 0 0 0 0 0 0 0 0 0 0 0 0 0 0 0\n",
            " 0 1 0 0 0 0 0 0 0 0 0 0 0 0 0 0 0 0 0 1 1 0 0 0 0 0 1 1 1 1 0 0 0 1 0 0 0\n",
            " 0 0 0 0 0 0 0 0 0 0 0 0 0 0 0 0 0 0 0 0 0 0 0 0 0 0 0 0 0 0 0 0 1 1 1 1 1\n",
            " 1 1 0 1 1 1 1 1 0 1 1 0 0 0 0 0 1 0 0 0 0 0 0 0 0 0 0 0 0 0 0 0 1 1 0 0 0\n",
            " 0 1 0 1 0 0 1 1 1 1 1 1 1 1 0 1 0 0 0 0 1 1 1 1 0 0 1 0 0 1 0 0 0 1 0 0 0\n",
            " 0 0 1 1 1 1 1 1 1 0 1 1 0 1 1 0 0 0 1 0 0 0 0 0 0 0 0 0 0 0 0 0 0 0 0 0 0\n",
            " 0 0 0 1 0 1 1 1 1 0 1 0 1 0 0 0 0 0 0 0 1 1 0 0 0 0 0 0 0 0 1 0 1 0 0 0 0\n",
            " 0 0 0 0 0 0 0 0 0 1 0 0 0 0 0 0 0 0 0 0 0 0 0 0 0 0 0 0 0 0 0 0 0 0 0 1 1\n",
            " 0 0 0 0 0 1 1 1 1 0 0 0 1 0 0 0 0 0 0 0 0 0 0 0 0 0 0 0 0 0 0 0 0 0 0 0 0\n",
            " 0 0 0 0 0 0 0 0 0 0 0 1 1 1 1 1 1 1 0 1 1 1 1 1 0 0 1]\n"
          ],
          "name": "stdout"
        }
      ]
    },
    {
      "cell_type": "code",
      "metadata": {
        "id": "0dMNaU6fM9WW"
      },
      "source": [
        "from sklearn.model_selection import train_test_split\n",
        "X_train,X_test,Y_train,Y_test=train_test_split(X,Y,test_size=0.25,random_state=0)"
      ],
      "execution_count": null,
      "outputs": []
    },
    {
      "cell_type": "code",
      "metadata": {
        "colab": {
          "base_uri": "https://localhost:8080/"
        },
        "id": "HeLubFSaNODW",
        "outputId": "5d82a15a-89d9-482b-874a-36ab8d76c314"
      },
      "source": [
        "from sklearn.linear_model import LogisticRegression\n",
        "from sklearn.metrics import accuracy_score\n",
        "\n",
        "l_classifier=LogisticRegression()\n",
        "\n",
        "l_classifier.fit(X_train,Y_train)\n",
        "\n",
        "Y_pred_l=l_classifier.predict(X_test)\n",
        "accuracy_score(Y_test,Y_pred_l)"
      ],
      "execution_count": null,
      "outputs": [
        {
          "output_type": "stream",
          "text": [
            "/usr/local/lib/python3.7/dist-packages/sklearn/linear_model/_logistic.py:940: ConvergenceWarning: lbfgs failed to converge (status=1):\n",
            "STOP: TOTAL NO. of ITERATIONS REACHED LIMIT.\n",
            "\n",
            "Increase the number of iterations (max_iter) or scale the data as shown in:\n",
            "    https://scikit-learn.org/stable/modules/preprocessing.html\n",
            "Please also refer to the documentation for alternative solver options:\n",
            "    https://scikit-learn.org/stable/modules/linear_model.html#logistic-regression\n",
            "  extra_warning_msg=_LOGISTIC_SOLVER_CONVERGENCE_MSG)\n"
          ],
          "name": "stderr"
        },
        {
          "output_type": "execute_result",
          "data": {
            "text/plain": [
              "0.8739495798319328"
            ]
          },
          "metadata": {
            "tags": []
          },
          "execution_count": 30
        }
      ]
    },
    {
      "cell_type": "code",
      "metadata": {
        "colab": {
          "base_uri": "https://localhost:8080/"
        },
        "id": "21So8m54No_A",
        "outputId": "a7876428-0c9d-4801-919c-bda8f7330e71"
      },
      "source": [
        "from sklearn.neighbors import KNeighborsClassifier\n",
        "\n",
        "k_classifier=KNeighborsClassifier()\n",
        "\n",
        "k_classifier.fit(X_train,Y_train)\n",
        "Y_pred_k=k_classifier.predict(X_test)\n",
        "\n",
        "accuracy_score(Y_test,Y_pred_k)"
      ],
      "execution_count": null,
      "outputs": [
        {
          "output_type": "execute_result",
          "data": {
            "text/plain": [
              "0.8781512605042017"
            ]
          },
          "metadata": {
            "tags": []
          },
          "execution_count": 58
        }
      ]
    },
    {
      "cell_type": "code",
      "metadata": {
        "colab": {
          "base_uri": "https://localhost:8080/"
        },
        "id": "iZIGYmFFN7ln",
        "outputId": "b9212d1e-9e0e-4d78-f3bf-e71cda00f6a5"
      },
      "source": [
        "from sklearn.tree import DecisionTreeClassifier\n",
        "\n",
        "d_classifier=DecisionTreeClassifier()\n",
        "\n",
        "d_classifier.fit(X_train,Y_train)\n",
        "Y_pred_d=d_classifier.predict(X_test)\n",
        "\n",
        "accuracy_score(Y_test,Y_pred_d)"
      ],
      "execution_count": null,
      "outputs": [
        {
          "output_type": "execute_result",
          "data": {
            "text/plain": [
              "0.9537815126050421"
            ]
          },
          "metadata": {
            "tags": []
          },
          "execution_count": 51
        }
      ]
    },
    {
      "cell_type": "code",
      "metadata": {
        "colab": {
          "base_uri": "https://localhost:8080/"
        },
        "id": "I6cEA8OPOHRK",
        "outputId": "aef9dfc3-7fe0-4dc9-964a-fdbf7d753f47"
      },
      "source": [
        "from sklearn.ensemble import RandomForestClassifier\n",
        "\n",
        "r_classifier=RandomForestClassifier(n_estimators=10)\n",
        "\n",
        "r_classifier.fit(X_train,Y_train)\n",
        "Y_pred_r=r_classifier.predict(X_test)\n",
        "accuracy_score(Y_test,Y_pred_r)"
      ],
      "execution_count": null,
      "outputs": [
        {
          "output_type": "execute_result",
          "data": {
            "text/plain": [
              "0.9537815126050421"
            ]
          },
          "metadata": {
            "tags": []
          },
          "execution_count": 45
        }
      ]
    }
  ]
}